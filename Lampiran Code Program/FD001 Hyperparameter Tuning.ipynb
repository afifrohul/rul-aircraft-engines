{
 "cells": [
  {
   "cell_type": "code",
   "execution_count": null,
   "metadata": {
    "id": "bUtUBGNralax"
   },
   "outputs": [],
   "source": [
    "import numpy as np\n",
    "import pandas as pd\n",
    "from xgboost import XGBRegressor"
   ]
  },
  {
   "cell_type": "markdown",
   "metadata": {
    "id": "06BOTz9Lalaz"
   },
   "source": [
    "# Data Train Process"
   ]
  },
  {
   "cell_type": "code",
   "execution_count": null,
   "metadata": {
    "colab": {
     "base_uri": "https://localhost:8080/",
     "height": 444
    },
    "id": "UUXuEsVwalaz",
    "outputId": "8b3fd3d6-79de-4e1c-e137-85d25c0f08e7"
   },
   "outputs": [],
   "source": [
    "df = pd.read_csv('CMAPSSData/train_FD001.csv')\n",
    "df"
   ]
  },
  {
   "cell_type": "code",
   "execution_count": null,
   "metadata": {
    "colab": {
     "base_uri": "https://localhost:8080/",
     "height": 444
    },
    "id": "53Rt9xR-ala0",
    "outputId": "02c557fe-0e22-4069-931c-f39097e6e49c"
   },
   "outputs": [],
   "source": [
    "def piecewise_linear_rul(df, rul_max=128):\n",
    "    def compute_rul(cycles):\n",
    "        max_cycle = cycles.max()\n",
    "        rul = max_cycle - cycles\n",
    "        return np.where(rul > rul_max, rul_max, rul)\n",
    "\n",
    "    df['RUL'] = df.groupby('unit_number')['cycles'].transform(compute_rul)\n",
    "    return df\n",
    "\n",
    "\n",
    "def natural_rul(df):\n",
    "    df['RUL'] = df.groupby('unit_number')['cycles'].transform(\n",
    "        lambda x: x.max() - x\n",
    "    )\n",
    "    return df\n",
    "\n",
    "piecewise_linear_rul(df)\n",
    "# natural_rul(df)"
   ]
  },
  {
   "cell_type": "code",
   "execution_count": null,
   "metadata": {
    "id": "Dtc45wLWXVxZ"
   },
   "outputs": [],
   "source": [
    "X_xgb = df.drop(columns=['unit_number', 'cycles', 'RUL'])\n",
    "y_xgb = df['RUL'] + 1\n",
    "\n",
    "print(np.isnan(X_xgb).any()) \n",
    "print(np.isnan(y_xgb).any()) "
   ]
  },
  {
   "cell_type": "code",
   "execution_count": null,
   "metadata": {
    "colab": {
     "base_uri": "https://localhost:8080/",
     "height": 254
    },
    "id": "_UXE5RuOUAbk",
    "outputId": "fa4fef70-1fd6-4e7f-9265-13b71f0dbec3"
   },
   "outputs": [],
   "source": [
    "from sklearn.model_selection import GridSearchCV\n",
    "\n",
    "# Inisialisasi model XGBoost\n",
    "xgb = XGBRegressor(\n",
    "    booster='gbtree',\n",
    "    objective='reg:gamma',\n",
    "    gamma=0.1,   \n",
    "    reg_lambda=3,\n",
    "    subsample=0.7,\n",
    ")\n",
    "\n",
    "# Range hyperparameter yang diuji\n",
    "param_grid = {\n",
    "    'n_estimators': [50, 250, 400, 500],\n",
    "    'max_depth': [3, 5, 7, 9, 13, 15, 17, 20],\n",
    "    'learning_rate': [0.001, 0.05, 0.1, 0.2, 0.3],\n",
    "    'min_child_weight': [1,3, 5, 7, 10]\n",
    "}\n",
    "\n",
    "# Grid search\n",
    "grid_search = GridSearchCV(estimator=xgb, param_grid=param_grid, cv=3, scoring='neg_mean_squared_error', verbose=2)\n",
    "grid_search.fit(X_xgb, y_xgb)\n",
    "\n",
    "# Hasil hyperparameter terbaik\n",
    "best_params = grid_search.best_params_\n",
    "print(\"Best Parameters:\", best_params)\n",
    "\n",
    "# Latih model XGBoost dengan parameter terbaik\n",
    "xgb_model = XGBRegressor(**best_params)\n",
    "xgb_model.fit(X_xgb, y_xgb)"
   ]
  },
  {
   "cell_type": "code",
   "execution_count": null,
   "metadata": {
    "id": "PDg6qpCad3ye"
   },
   "outputs": [],
   "source": [
    "features = [col for col in df.columns if col not in ['unit_number', 'cycles', 'RUL']]"
   ]
  },
  {
   "cell_type": "code",
   "execution_count": null,
   "metadata": {
    "colab": {
     "base_uri": "https://localhost:8080/"
    },
    "id": "g50A8ikrX2vA",
    "outputId": "5f55b1d1-3467-47d6-c8a4-daa8acc21fb7"
   },
   "outputs": [],
   "source": [
    "# feature_importances = xgb_model.feature_importances_\n",
    "# # Pilih fitur dengan importance > threshold\n",
    "# threshold = 0.02  # Sesuaikan threshold sesuai kebutuhan\n",
    "# selected_features = np.array(features)[feature_importances > threshold]\n",
    "\n",
    "# print(\"Fitur yang terpilih:\", selected_features)\n",
    "\n",
    "# Urutkan fitur berdasarkan nilai feature importance\n",
    "sorted_indices = np.argsort(xgb_model.feature_importances_)[::-1]  # Urutkan dari terbesar ke terkecil\n",
    "top_n = 12  # Jumlah fitur terbaik yang diinginkan\n",
    "\n",
    "# Ambil fitur terbaik\n",
    "selected_features = np.array(features)[sorted_indices[:top_n]]\n",
    "\n",
    "print(\"Fitur yang terpilih:\", selected_features)\n"
   ]
  }
 ],
 "metadata": {
  "accelerator": "GPU",
  "colab": {
   "gpuType": "T4",
   "provenance": []
  },
  "kernelspec": {
   "display_name": "Python 3",
   "name": "python3"
  },
  "language_info": {
   "codemirror_mode": {
    "name": "ipython",
    "version": 3
   },
   "file_extension": ".py",
   "mimetype": "text/x-python",
   "name": "python",
   "nbconvert_exporter": "python",
   "pygments_lexer": "ipython3",
   "version": "3.12.7"
  }
 },
 "nbformat": 4,
 "nbformat_minor": 0
}
